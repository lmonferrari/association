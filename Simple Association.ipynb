{
 "cells": [
  {
   "cell_type": "code",
   "execution_count": 1,
   "id": "26a4fb47",
   "metadata": {},
   "outputs": [
    {
     "data": {
      "text/html": [
       "<style>.container { width:90% !important; }</style>"
      ],
      "text/plain": [
       "<IPython.core.display.HTML object>"
      ]
     },
     "metadata": {},
     "output_type": "display_data"
    }
   ],
   "source": [
    "import pandas as pd\n",
    "from apyori import apriori\n",
    "from IPython.display import display, HTML\n",
    "display(HTML(\"<style>.container { width:90% !important; }</style>\"))"
   ]
  },
  {
   "cell_type": "markdown",
   "id": "ba627a16",
   "metadata": {},
   "source": [
    "#### Load Dataset"
   ]
  },
  {
   "cell_type": "code",
   "execution_count": 2,
   "id": "a9d25d1b",
   "metadata": {},
   "outputs": [
    {
     "data": {
      "text/html": [
       "<div>\n",
       "<style scoped>\n",
       "    .dataframe tbody tr th:only-of-type {\n",
       "        vertical-align: middle;\n",
       "    }\n",
       "\n",
       "    .dataframe tbody tr th {\n",
       "        vertical-align: top;\n",
       "    }\n",
       "\n",
       "    .dataframe thead th {\n",
       "        text-align: right;\n",
       "    }\n",
       "</style>\n",
       "<table border=\"1\" class=\"dataframe\">\n",
       "  <thead>\n",
       "    <tr style=\"text-align: right;\">\n",
       "      <th></th>\n",
       "      <th>0</th>\n",
       "      <th>1</th>\n",
       "      <th>2</th>\n",
       "      <th>3</th>\n",
       "    </tr>\n",
       "  </thead>\n",
       "  <tbody>\n",
       "    <tr>\n",
       "      <th>0</th>\n",
       "      <td>milk</td>\n",
       "      <td>beer</td>\n",
       "      <td>bread</td>\n",
       "      <td>butter</td>\n",
       "    </tr>\n",
       "    <tr>\n",
       "      <th>1</th>\n",
       "      <td>coffee</td>\n",
       "      <td>bread</td>\n",
       "      <td>butter</td>\n",
       "      <td>NaN</td>\n",
       "    </tr>\n",
       "    <tr>\n",
       "      <th>2</th>\n",
       "      <td>coffee</td>\n",
       "      <td>bread</td>\n",
       "      <td>butter</td>\n",
       "      <td>NaN</td>\n",
       "    </tr>\n",
       "    <tr>\n",
       "      <th>3</th>\n",
       "      <td>milk</td>\n",
       "      <td>coffee</td>\n",
       "      <td>bread</td>\n",
       "      <td>butter</td>\n",
       "    </tr>\n",
       "    <tr>\n",
       "      <th>4</th>\n",
       "      <td>beer</td>\n",
       "      <td>NaN</td>\n",
       "      <td>NaN</td>\n",
       "      <td>NaN</td>\n",
       "    </tr>\n",
       "    <tr>\n",
       "      <th>5</th>\n",
       "      <td>butter</td>\n",
       "      <td>NaN</td>\n",
       "      <td>NaN</td>\n",
       "      <td>NaN</td>\n",
       "    </tr>\n",
       "    <tr>\n",
       "      <th>6</th>\n",
       "      <td>bread</td>\n",
       "      <td>NaN</td>\n",
       "      <td>NaN</td>\n",
       "      <td>NaN</td>\n",
       "    </tr>\n",
       "    <tr>\n",
       "      <th>7</th>\n",
       "      <td>beans</td>\n",
       "      <td>NaN</td>\n",
       "      <td>NaN</td>\n",
       "      <td>NaN</td>\n",
       "    </tr>\n",
       "    <tr>\n",
       "      <th>8</th>\n",
       "      <td>rice</td>\n",
       "      <td>beans</td>\n",
       "      <td>NaN</td>\n",
       "      <td>NaN</td>\n",
       "    </tr>\n",
       "    <tr>\n",
       "      <th>9</th>\n",
       "      <td>rice</td>\n",
       "      <td>NaN</td>\n",
       "      <td>NaN</td>\n",
       "      <td>NaN</td>\n",
       "    </tr>\n",
       "  </tbody>\n",
       "</table>\n",
       "</div>"
      ],
      "text/plain": [
       "        0       1       2       3\n",
       "0    milk    beer   bread  butter\n",
       "1  coffee   bread  butter     NaN\n",
       "2  coffee   bread  butter     NaN\n",
       "3    milk  coffee   bread  butter\n",
       "4    beer     NaN     NaN     NaN\n",
       "5  butter     NaN     NaN     NaN\n",
       "6   bread     NaN     NaN     NaN\n",
       "7   beans     NaN     NaN     NaN\n",
       "8    rice   beans     NaN     NaN\n",
       "9    rice     NaN     NaN     NaN"
      ]
     },
     "execution_count": 2,
     "metadata": {},
     "output_type": "execute_result"
    }
   ],
   "source": [
    "df = pd.read_csv('mercado.csv', header=None)\n",
    "df"
   ]
  },
  {
   "cell_type": "markdown",
   "id": "32d6adfe",
   "metadata": {},
   "source": [
    "#### Converting to list"
   ]
  },
  {
   "cell_type": "code",
   "execution_count": 3,
   "id": "09de4ca3",
   "metadata": {},
   "outputs": [
    {
     "data": {
      "text/plain": [
       "[['milk', 'beer', 'bread', 'butter'],\n",
       " ['coffee', 'bread', 'butter', 'nan'],\n",
       " ['coffee', 'bread', 'butter', 'nan'],\n",
       " ['milk', 'coffee', 'bread', 'butter'],\n",
       " ['beer', 'nan', 'nan', 'nan'],\n",
       " ['butter', 'nan', 'nan', 'nan'],\n",
       " ['bread', 'nan', 'nan', 'nan'],\n",
       " ['beans', 'nan', 'nan', 'nan'],\n",
       " ['rice', 'beans', 'nan', 'nan'],\n",
       " ['rice', 'nan', 'nan', 'nan']]"
      ]
     },
     "execution_count": 3,
     "metadata": {},
     "output_type": "execute_result"
    }
   ],
   "source": [
    "transactions = df.to_numpy().astype(str).tolist()\n",
    "transactions"
   ]
  },
  {
   "cell_type": "markdown",
   "id": "aa02b3b6",
   "metadata": {},
   "source": [
    "#### Creating the association"
   ]
  },
  {
   "cell_type": "code",
   "execution_count": 4,
   "id": "e42923bc",
   "metadata": {},
   "outputs": [],
   "source": [
    "rules = apriori(transactions, min_support=0.3, min_confidence=0.8, min_lift=2)\n",
    "results = list(rules)"
   ]
  },
  {
   "cell_type": "code",
   "execution_count": 5,
   "id": "a5b7f459",
   "metadata": {},
   "outputs": [],
   "source": [
    "df_results = pd.DataFrame(columns=['association', '_if', '_then', 'support', 'confidence', 'lift'])\n",
    "\n",
    "for result in results:\n",
    "    df_temp = pd.DataFrame(columns=['association', '_if', '_then', 'support', 'confidence', 'lift'])\n",
    "    df_temp['association'] = [[r for r in result[0]]]\n",
    "    df_temp['support'] = result[1]\n",
    "    \n",
    "    for register in result[2]:\n",
    "        r = [a for a in register]\n",
    "        if len(r[0]) > 1:\n",
    "            df_temp['_if'] = [[a for a in r[0]]]\n",
    "        else:\n",
    "            df_temp['_if'] = [a for a in r[0]]\n",
    "            \n",
    "        if len(r[1]) > 1:\n",
    "            df_temp['_then'] = [[a for a in r[1]]]\n",
    "        else:\n",
    "            df_temp['_then'] = [a for a in r[1]]\n",
    "            \n",
    "        df_temp['confidence'] = r[2]\n",
    "        df_temp['lift'] = r[3]\n",
    "            \n",
    "        df_results = pd.concat([df_results, df_temp], ignore_index=True)"
   ]
  },
  {
   "cell_type": "markdown",
   "id": "4c43796a",
   "metadata": {},
   "source": [
    "#### Showing the results"
   ]
  },
  {
   "cell_type": "code",
   "execution_count": 6,
   "id": "97ed3f92",
   "metadata": {},
   "outputs": [
    {
     "data": {
      "text/html": [
       "<div>\n",
       "<style scoped>\n",
       "    .dataframe tbody tr th:only-of-type {\n",
       "        vertical-align: middle;\n",
       "    }\n",
       "\n",
       "    .dataframe tbody tr th {\n",
       "        vertical-align: top;\n",
       "    }\n",
       "\n",
       "    .dataframe thead th {\n",
       "        text-align: right;\n",
       "    }\n",
       "</style>\n",
       "<table border=\"1\" class=\"dataframe\">\n",
       "  <thead>\n",
       "    <tr style=\"text-align: right;\">\n",
       "      <th></th>\n",
       "      <th>association</th>\n",
       "      <th>_if</th>\n",
       "      <th>_then</th>\n",
       "      <th>support</th>\n",
       "      <th>confidence</th>\n",
       "      <th>lift</th>\n",
       "    </tr>\n",
       "  </thead>\n",
       "  <tbody>\n",
       "    <tr>\n",
       "      <th>2</th>\n",
       "      <td>[coffee, butter, bread]</td>\n",
       "      <td>coffee</td>\n",
       "      <td>[butter, bread]</td>\n",
       "      <td>0.3</td>\n",
       "      <td>1.0</td>\n",
       "      <td>2.5</td>\n",
       "    </tr>\n",
       "    <tr>\n",
       "      <th>0</th>\n",
       "      <td>[coffee, bread]</td>\n",
       "      <td>coffee</td>\n",
       "      <td>bread</td>\n",
       "      <td>0.3</td>\n",
       "      <td>1.0</td>\n",
       "      <td>2.0</td>\n",
       "    </tr>\n",
       "    <tr>\n",
       "      <th>1</th>\n",
       "      <td>[coffee, butter]</td>\n",
       "      <td>coffee</td>\n",
       "      <td>butter</td>\n",
       "      <td>0.3</td>\n",
       "      <td>1.0</td>\n",
       "      <td>2.0</td>\n",
       "    </tr>\n",
       "    <tr>\n",
       "      <th>3</th>\n",
       "      <td>[coffee, butter, bread]</td>\n",
       "      <td>[coffee, bread]</td>\n",
       "      <td>butter</td>\n",
       "      <td>0.3</td>\n",
       "      <td>1.0</td>\n",
       "      <td>2.0</td>\n",
       "    </tr>\n",
       "    <tr>\n",
       "      <th>4</th>\n",
       "      <td>[coffee, butter, bread]</td>\n",
       "      <td>[coffee, butter]</td>\n",
       "      <td>bread</td>\n",
       "      <td>0.3</td>\n",
       "      <td>1.0</td>\n",
       "      <td>2.0</td>\n",
       "    </tr>\n",
       "  </tbody>\n",
       "</table>\n",
       "</div>"
      ],
      "text/plain": [
       "               association               _if            _then  support  \\\n",
       "2  [coffee, butter, bread]            coffee  [butter, bread]      0.3   \n",
       "0          [coffee, bread]            coffee            bread      0.3   \n",
       "1         [coffee, butter]            coffee           butter      0.3   \n",
       "3  [coffee, butter, bread]   [coffee, bread]           butter      0.3   \n",
       "4  [coffee, butter, bread]  [coffee, butter]            bread      0.3   \n",
       "\n",
       "   confidence  lift  \n",
       "2         1.0   2.5  \n",
       "0         1.0   2.0  \n",
       "1         1.0   2.0  \n",
       "3         1.0   2.0  \n",
       "4         1.0   2.0  "
      ]
     },
     "execution_count": 6,
     "metadata": {},
     "output_type": "execute_result"
    }
   ],
   "source": [
    "df_results.sort_values('lift', ascending=False)"
   ]
  }
 ],
 "metadata": {
  "kernelspec": {
   "display_name": "Python 3 (ipykernel)",
   "language": "python",
   "name": "python3"
  },
  "language_info": {
   "codemirror_mode": {
    "name": "ipython",
    "version": 3
   },
   "file_extension": ".py",
   "mimetype": "text/x-python",
   "name": "python",
   "nbconvert_exporter": "python",
   "pygments_lexer": "ipython3",
   "version": "3.9.7"
  },
  "varInspector": {
   "cols": {
    "lenName": 16,
    "lenType": 16,
    "lenVar": "60"
   },
   "kernels_config": {
    "python": {
     "delete_cmd_postfix": "",
     "delete_cmd_prefix": "del ",
     "library": "var_list.py",
     "varRefreshCmd": "print(var_dic_list())"
    },
    "r": {
     "delete_cmd_postfix": ") ",
     "delete_cmd_prefix": "rm(",
     "library": "var_list.r",
     "varRefreshCmd": "cat(var_dic_list()) "
    }
   },
   "types_to_exclude": [
    "module",
    "function",
    "builtin_function_or_method",
    "instance",
    "_Feature"
   ],
   "window_display": false
  }
 },
 "nbformat": 4,
 "nbformat_minor": 5
}
